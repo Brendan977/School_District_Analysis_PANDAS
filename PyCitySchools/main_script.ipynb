{
 "cells": [
  {
   "cell_type": "code",
   "execution_count": null,
   "id": "163e81cb",
   "metadata": {},
   "outputs": [],
   "source": [
    "import pandas as pd\n",
    "from pathlib import Path\n",
    "\n",
    "school_data_path = ('../../pandas_material/Starter_Code/PyCitySchools/Resources/schools_complete.csv')\n",
    "student_data_path = ('../../pandas_material/Starter_Code/PyCitySchools/Resources/students_complete.csv')\n",
    "\n",
    "school_data = pd.read_csv(school_data_path)\n",
    "student_data = pd.read_csv(student_data_path)\n",
    "\n",
    "complete_data = pd.merge(student_data, school_data, how=\"left\", on=[\"school_name\", \"school_name\"])\n",
    "complete_data.head()"
   ]
  },
  {
   "cell_type": "code",
   "execution_count": null,
   "id": "1612e80d",
   "metadata": {},
   "outputs": [],
   "source": [
    "#District Summary"
   ]
  },
  {
   "cell_type": "code",
   "execution_count": null,
   "id": "2e80ae94",
   "metadata": {},
   "outputs": [],
   "source": [
    "#Total number of unique schools\n",
    "school_count = len(complete_data.school_name.unique())\n",
    "school_count"
   ]
  },
  {
   "cell_type": "code",
   "execution_count": null,
   "id": "f77dbd37",
   "metadata": {},
   "outputs": [],
   "source": [
    "#Total students\n",
    "student_count = len(complete_data.student_name)\n",
    "student_count"
   ]
  },
  {
   "cell_type": "code",
   "execution_count": null,
   "id": "4785258c",
   "metadata": {},
   "outputs": [],
   "source": [
    "#Total budget\n",
    "total_budget = sum(complete_data.budget.unique()) \n",
    "total_budget"
   ]
  },
  {
   "cell_type": "code",
   "execution_count": null,
   "id": "864ba8f9",
   "metadata": {},
   "outputs": [],
   "source": [
    "#Average math score\n",
    "average_math_score = complete_data.math_score.mean() \n",
    "average_math_score"
   ]
  },
  {
   "cell_type": "code",
   "execution_count": null,
   "id": "025c2166",
   "metadata": {},
   "outputs": [],
   "source": [
    "#Average reading score\n",
    "average_reading_score = complete_data.reading_score.mean()\n",
    "average_reading_score"
   ]
  },
  {
   "cell_type": "code",
   "execution_count": null,
   "id": "d54c99e9",
   "metadata": {},
   "outputs": [],
   "source": [
    "# %passing math\n",
    "passing_math_count = complete_data[(complete_data[\"math_score\"] >= 70)].count()[\"student_name\"]\n",
    "passing_math_percentage = passing_math_count / float(student_count) * 100\n",
    "passing_math_percentage"
   ]
  },
  {
   "cell_type": "code",
   "execution_count": null,
   "id": "b76e3870",
   "metadata": {},
   "outputs": [],
   "source": [
    "# %passing reading\n",
    "passing_reading_count = complete_data[(complete_data[\"reading_score\"] >= 70)].count()[\"student_name\"]\n",
    "passing_reading_percentage = passing_reading_count / float(student_count) * 100\n",
    "passing_reading_percentage"
   ]
  },
  {
   "cell_type": "code",
   "execution_count": null,
   "id": "4a20facd",
   "metadata": {},
   "outputs": [],
   "source": [
    "# %overall passing\n",
    "passing_math_reading_count = complete_data[\n",
    "    (complete_data[\"math_score\"] >= 70) & (complete_data[\"reading_score\"] >= 70)\n",
    "].count()[\"student_name\"]\n",
    "overall_passing_rate = passing_math_reading_count / float(student_count) * 100\n",
    "overall_passing_rate"
   ]
  },
  {
   "cell_type": "code",
   "execution_count": null,
   "id": "972e3c95",
   "metadata": {},
   "outputs": [],
   "source": [
    "#District's key metrics\n",
    "district_summary = pd.DataFrame({\"Total Schools\": [school_count],\n",
    "                                \"Total Students\": [student_count],\n",
    "                                \"Total Budget\": [total_budget],\n",
    "                                \"Average Math Score\": [average_math_score],\n",
    "                                \"Average Reading Score\": [average_reading_score],\n",
    "                                \"% Passing Math\": [passing_math_percentage],\n",
    "                                \"% Passing Reading\": [passing_reading_percentage],\n",
    "                                \"% Overall Passing\": [overall_passing_rate]})\n",
    "\n",
    "district_summary[\"Total Students\"] = district_summary[\"Total Students\"].map(\"{:,}\".format)\n",
    "district_summary[\"Total Budget\"] = district_summary[\"Total Budget\"].map(\"${:,.2f}\".format)\n",
    "\n",
    "district_summary"
   ]
  },
  {
   "cell_type": "code",
   "execution_count": null,
   "id": "f012c098",
   "metadata": {},
   "outputs": [],
   "source": [
    "#School Summary"
   ]
  },
  {
   "cell_type": "code",
   "execution_count": null,
   "id": "5d2807a8",
   "metadata": {},
   "outputs": [],
   "source": [
    "#School Name\n",
    "school_name = complete_data.groupby(['school_name'])\n",
    "school_names = list(complete_data.school_name.sort_values().unique())"
   ]
  },
  {
   "cell_type": "code",
   "execution_count": null,
   "id": "5e5158ae",
   "metadata": {},
   "outputs": [],
   "source": [
    "#School type\n",
    "school_types = school_name.type.unique()"
   ]
  },
  {
   "cell_type": "code",
   "execution_count": null,
   "id": "f0a61367",
   "metadata": {},
   "outputs": [],
   "source": [
    "#Total students per school\n",
    "per_school_counts = list(school_name.school_name.count())"
   ]
  },
  {
   "cell_type": "code",
   "execution_count": null,
   "id": "46ef1975",
   "metadata": {},
   "outputs": [],
   "source": [
    "#Total budget per school and per capita spending per school\n",
    "per_school_budget = school_name.budget.mean()\n",
    "per_school_capita = per_school_budget / per_school_counts"
   ]
  },
  {
   "cell_type": "code",
   "execution_count": null,
   "id": "291bbc2e",
   "metadata": {},
   "outputs": [],
   "source": [
    "#Average math and reading scores\n",
    "per_school_math = list(school_name.math_score.mean())\n",
    "per_school_reading = list(school_name.reading_score.mean())"
   ]
  },
  {
   "cell_type": "code",
   "execution_count": null,
   "id": "035cfdca",
   "metadata": {},
   "outputs": [],
   "source": [
    "# %passing math per school\n",
    "students_passing_math = complete_data[complete_data['math_score'] >= 70].groupby('school_name')\n",
    "sspm1 = students_passing_math.school_name.value_counts()\n",
    "school_students_passing_math = list(sspm1 / (per_school_counts) * 100)"
   ]
  },
  {
   "cell_type": "code",
   "execution_count": null,
   "id": "c9808116",
   "metadata": {},
   "outputs": [],
   "source": [
    "# %passing reading per school\n",
    "students_passing_reading = complete_data[complete_data[\"reading_score\"] >= 70].groupby('school_name')\n",
    "sspr1 = students_passing_reading.school_name.value_counts()\n",
    "school_students_passing_reading = list(sspr1 / per_school_counts * 100)"
   ]
  },
  {
   "cell_type": "code",
   "execution_count": null,
   "id": "1c93b483",
   "metadata": {},
   "outputs": [],
   "source": [
    "# %overall passing math and reading per school\n",
    "students_passing_math_and_reading = complete_data[\n",
    "    (complete_data[\"reading_score\"] >= 70) & (complete_data[\"math_score\"] >= 70)\n",
    "]\n",
    "school_students_passing_math_and_reading1 = students_passing_math_and_reading.groupby([\"school_name\"]).size()\n",
    "school_students_passing_math_and_reading = list(school_students_passing_math_and_reading1 / (per_school_counts) * 100)"
   ]
  },
  {
   "cell_type": "code",
   "execution_count": null,
   "id": "ed149b5f",
   "metadata": {},
   "outputs": [],
   "source": [
    "# per School Summary DataFrame\n",
    "per_school_summary = pd.DataFrame({\"School Name\": school_names,\n",
    "                                \"School Type\": school_types,\n",
    "                                \"Total Students\": per_school_counts,\n",
    "                                \"Total School Budget\": per_school_budget,\n",
    "                                \"Per Student Budget\": per_school_capita,\n",
    "                                \"Average Math Score\": per_school_math,\n",
    "                                \"Average Reading Score\": per_school_reading,\n",
    "                                \"% Passing Math\": school_students_passing_math,\n",
    "                                \"% Passing Reading\": school_students_passing_reading,\n",
    "                                \"% Overall Passing\": school_students_passing_math_and_reading})\n",
    "\n",
    "\n",
    "per_school_summary[\"Total School Budget\"] = per_school_summary[\"Total School Budget\"].map(\"${:,.2f}\".format)\n",
    "per_school_summary[\"Per Student Budget\"] = per_school_summary[\"Per Student Budget\"].map(\"${:,.2f}\".format)\n",
    "\n",
    "per_school_summary = per_school_summary.set_index('School Name')\n",
    "\n",
    "per_school_summary"
   ]
  },
  {
   "cell_type": "code",
   "execution_count": null,
   "id": "53ff2c28",
   "metadata": {},
   "outputs": [],
   "source": [
    "#Highest-Performing Schools(by % Overall Passing)"
   ]
  },
  {
   "cell_type": "code",
   "execution_count": null,
   "id": "cb83d252",
   "metadata": {},
   "outputs": [],
   "source": [
    "#Sorted '% Overall Passing'(descending order)\n",
    "top_schools = per_school_summary.sort_values('% Overall Passing', ascending= False)\n",
    "top_schools.head(5)"
   ]
  },
  {
   "cell_type": "code",
   "execution_count": null,
   "id": "3dd6e9ae",
   "metadata": {},
   "outputs": [],
   "source": [
    "#Lowest-Performing Schools(by % Overall Passing)"
   ]
  },
  {
   "cell_type": "code",
   "execution_count": null,
   "id": "2099de6e",
   "metadata": {},
   "outputs": [],
   "source": [
    "#Sorted '% Overall Passing'(asscending order)\n",
    "bottom_schools = per_school_summary.sort_values('% Overall Passing', ascending= True)\n",
    "bottom_schools.head(5)"
   ]
  },
  {
   "cell_type": "code",
   "execution_count": null,
   "id": "e9392b72",
   "metadata": {},
   "outputs": [],
   "source": [
    "#Math Scores by Grade"
   ]
  },
  {
   "cell_type": "code",
   "execution_count": null,
   "id": "56d5be8f",
   "metadata": {},
   "outputs": [],
   "source": [
    "ninth_graders = complete_data[(complete_data[\"grade\"] == \"9th\")]\n",
    "tenth_graders = complete_data[(complete_data[\"grade\"] == \"10th\")]\n",
    "eleventh_graders = complete_data[(complete_data[\"grade\"] == \"11th\")]\n",
    "twelfth_graders = complete_data[(complete_data[\"grade\"] == \"12th\")]\n",
    "\n",
    "ninth_grade_math_scores = ninth_graders.groupby('school_name')['math_score'].mean()\n",
    "tenth_grader_math_scores = tenth_graders.groupby('school_name')['math_score'].mean() \n",
    "eleventh_grader_math_scores = eleventh_graders.groupby('school_name')['math_score'].mean()\n",
    "twelfth_grader_math_scores = twelfth_graders.groupby('school_name')['math_score'].mean()\n",
    "\n",
    "math_scores_by_grade = pd.DataFrame({\"9th\": ninth_grade_math_scores,\n",
    "                                    \"10th\": tenth_grader_math_scores,\n",
    "                                    \"11th\": eleventh_grader_math_scores,\n",
    "                                    \"12th\": twelfth_grader_math_scores})\n",
    "\n",
    "math_scores_by_grade.index.name = None\n",
    "\n",
    "math_scores_by_grade"
   ]
  },
  {
   "cell_type": "code",
   "execution_count": null,
   "id": "8e03406a",
   "metadata": {},
   "outputs": [],
   "source": [
    "#Reading Score by Grade"
   ]
  },
  {
   "cell_type": "code",
   "execution_count": null,
   "id": "9d76b7fc",
   "metadata": {},
   "outputs": [],
   "source": [
    "ninth_graders = complete_data[(complete_data[\"grade\"] == \"9th\")]\n",
    "tenth_graders = complete_data[(complete_data[\"grade\"] == \"10th\")]\n",
    "eleventh_graders = complete_data[(complete_data[\"grade\"] == \"11th\")]\n",
    "twelfth_graders = complete_data[(complete_data[\"grade\"] == \"12th\")]\n",
    "\n",
    "ninth_grade_reading_scores = ninth_graders.groupby('school_name')['reading_score'].mean()\n",
    "tenth_grader_reading_scores = tenth_graders.groupby('school_name')['reading_score'].mean() \n",
    "eleventh_grader_reading_scores = eleventh_graders.groupby('school_name')['reading_score'].mean()\n",
    "twelfth_grader_reading_scores = twelfth_graders.groupby('school_name')['reading_score'].mean()\n",
    "\n",
    "reading_scores_by_grade = pd.DataFrame({\"9th\": ninth_grade_reading_scores,\n",
    "                                    \"10th\": tenth_grader_reading_scores,\n",
    "                                    \"11th\": eleventh_grader_reading_scores,\n",
    "                                    \"12th\": twelfth_grader_reading_scores})\n",
    "\n",
    "reading_scores_by_grade.index.name = None\n",
    "\n",
    "reading_scores_by_grade"
   ]
  },
  {
   "cell_type": "code",
   "execution_count": null,
   "id": "61979b7c",
   "metadata": {},
   "outputs": [],
   "source": [
    "#Scores by School Spending"
   ]
  },
  {
   "cell_type": "code",
   "execution_count": null,
   "id": "550108ba",
   "metadata": {},
   "outputs": [],
   "source": [
    "#bins\n",
    "spending_bins = [0, 585, 630, 645, 680]\n",
    "labels = [\"<$585\", \"$585-630\", \"$630-645\", \"$645-680\"]"
   ]
  },
  {
   "cell_type": "code",
   "execution_count": null,
   "id": "b4e572b6",
   "metadata": {},
   "outputs": [],
   "source": [
    "#School Summary copy\n",
    "school_spending_df = per_school_summary.copy()"
   ]
  },
  {
   "cell_type": "code",
   "execution_count": null,
   "id": "f925bf28",
   "metadata": {},
   "outputs": [],
   "source": [
    "#Catgegorized spending\n",
    "school_spending_df[\"Spending Ranges (Per Student)\"] = pd.cut(per_school_capita, spending_bins, labels=labels)\n",
    "\n",
    "school_spending_df"
   ]
  },
  {
   "cell_type": "code",
   "execution_count": null,
   "id": "3f1aeb24",
   "metadata": {},
   "outputs": [],
   "source": [
    "#Mean per spending range\n",
    "spending_math_scores = school_spending_df.groupby([\"Spending Ranges (Per Student)\"])[\"Average Math Score\"].mean()\n",
    "spending_reading_scores = school_spending_df.groupby([\"Spending Ranges (Per Student)\"])[\"Average Reading Score\"].mean()\n",
    "spending_passing_math = school_spending_df.groupby([\"Spending Ranges (Per Student)\"])[\"% Passing Math\"].mean()\n",
    "spending_passing_reading = school_spending_df.groupby([\"Spending Ranges (Per Student)\"])[\"% Passing Reading\"].mean()\n",
    "overall_passing_spending = school_spending_df.groupby([\"Spending Ranges (Per Student)\"])[\"% Overall Passing\"].mean()"
   ]
  },
  {
   "cell_type": "code",
   "execution_count": null,
   "id": "fe119b9f",
   "metadata": {},
   "outputs": [],
   "source": [
    "spending_summary = pd.DataFrame({\"Average Math Score\": spending_math_scores,\n",
    "                                \"Average Reading Score\": spending_reading_scores,\n",
    "                                \"% Passing Math\": spending_passing_math,\n",
    "                                \"% Passing Reading\": spending_passing_reading,\n",
    "                                \"% Overall Passing\": overall_passing_spending})\n",
    "\n",
    "spending_summary"
   ]
  },
  {
   "cell_type": "code",
   "execution_count": null,
   "id": "87a8b4ed",
   "metadata": {},
   "outputs": [],
   "source": [
    "#Scores by School Size"
   ]
  },
  {
   "cell_type": "code",
   "execution_count": null,
   "id": "b9273e7a",
   "metadata": {},
   "outputs": [],
   "source": [
    "#bins\n",
    "size_bins = [0, 1000, 2000, 5000]\n",
    "labels = [\"Small (<1000)\", \"Medium (1000-2000)\", \"Large (2000-5000)\"]"
   ]
  },
  {
   "cell_type": "code",
   "execution_count": null,
   "id": "fb07b6c5",
   "metadata": {},
   "outputs": [],
   "source": [
    "#Categorized\n",
    "per_school_summary[\"School Size\"] = pd.cut(per_school_counts, size_bins, labels=labels)\n",
    "per_school_summary"
   ]
  },
  {
   "cell_type": "code",
   "execution_count": null,
   "id": "eb46b33c",
   "metadata": {},
   "outputs": [],
   "source": [
    "#Mean per School Size\n",
    "size_math_scores = per_school_summary.groupby([\"School Size\"])[\"Average Math Score\"].mean()\n",
    "size_reading_scores = per_school_summary.groupby([\"School Size\"])[\"Average Reading Score\"].mean()\n",
    "size_passing_math = per_school_summary.groupby([\"School Size\"])[\"% Passing Math\"].mean()\n",
    "size_passing_reading = per_school_summary.groupby([\"School Size\"])[\"% Passing Reading\"].mean()\n",
    "size_overall_passing = per_school_summary.groupby([\"School Size\"])[\"% Overall Passing\"].mean()"
   ]
  },
  {
   "cell_type": "code",
   "execution_count": null,
   "id": "678d3e95",
   "metadata": {},
   "outputs": [],
   "source": [
    "size_summary = pd.DataFrame({\"Average Math Score\": size_math_scores,\n",
    "                            \"Average Reading Score\": size_reading_scores,\n",
    "                            \"% Passing Math\": size_passing_math,\n",
    "                            \"% Passing Reading\": size_passing_reading,\n",
    "                            \"% Overall Passing\": size_overall_passing})\n",
    "\n",
    "size_summary"
   ]
  },
  {
   "cell_type": "code",
   "execution_count": null,
   "id": "79158e27",
   "metadata": {},
   "outputs": [],
   "source": [
    "#Scores by School Type"
   ]
  },
  {
   "cell_type": "code",
   "execution_count": null,
   "id": "40b4e8c7",
   "metadata": {},
   "outputs": [],
   "source": [
    "#Mean per School Type\n",
    "average_math_score_by_type = per_school_summary.groupby([\"School Type\"])[\"Average Math Score\"].mean()\n",
    "average_reading_score_by_type = per_school_summary.groupby([\"School Type\"])[\"Average Reading Score\"].mean()\n",
    "average_percent_passing_math_by_type = per_school_summary.groupby([\"School Type\"])[\"% Passing Math\"].mean()\n",
    "average_percent_passing_reading_by_type = per_school_summary.groupby([\"School Type\"])[\"% Passing Reading\"].mean()\n",
    "average_percent_overall_passing_by_type = per_school_summary.groupby([\"School Type\"])[\"% Overall Passing\"].mean()"
   ]
  },
  {
   "cell_type": "code",
   "execution_count": null,
   "id": "4dfccc3b",
   "metadata": {},
   "outputs": [],
   "source": [
    "type_summary = pd.DataFrame({\"Average Math Score\": average_math_score_by_type,\n",
    "                            \"Average Reading Score\": average_reading_score_by_type,\n",
    "                            \"% Passing Math\": average_percent_passing_math_by_type,\n",
    "                            \"% Passing Reading\": average_percent_passing_reading_by_type,\n",
    "                            \"% Overall Passing\": average_percent_overall_passing_by_type})\n",
    "type_summary"
   ]
  },
  {
   "cell_type": "code",
   "execution_count": null,
   "id": "f495e658",
   "metadata": {},
   "outputs": [],
   "source": []
  },
  {
   "cell_type": "code",
   "execution_count": null,
   "id": "15badaf4",
   "metadata": {},
   "outputs": [],
   "source": []
  }
 ],
 "metadata": {
  "kernelspec": {
   "display_name": "Python 3 (ipykernel)",
   "language": "python",
   "name": "python3"
  },
  "language_info": {
   "codemirror_mode": {
    "name": "ipython",
    "version": 3
   },
   "file_extension": ".py",
   "mimetype": "text/x-python",
   "name": "python",
   "nbconvert_exporter": "python",
   "pygments_lexer": "ipython3",
   "version": "3.11.3"
  }
 },
 "nbformat": 4,
 "nbformat_minor": 5
}
